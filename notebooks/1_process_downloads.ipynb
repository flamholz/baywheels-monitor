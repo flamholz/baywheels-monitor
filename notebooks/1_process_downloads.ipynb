{
 "cells": [
  {
   "cell_type": "code",
   "execution_count": 1,
   "metadata": {},
   "outputs": [],
   "source": [
    "%matplotlib inline\n",
    "import seaborn as sns\n",
    "import numpy as np\n",
    "import pandas as pd\n",
    "import json\n",
    "import os\n",
    "\n",
    "from datetime import datetime\n",
    "from os import path\n",
    "from matplotlib import pyplot as plt"
   ]
  },
  {
   "cell_type": "code",
   "execution_count": 2,
   "metadata": {},
   "outputs": [],
   "source": [
    "fname = '../station_information_100319.json'\n",
    "with open(fname) as sf:\n",
    "    station_data = json.load(sf)"
   ]
  },
  {
   "cell_type": "code",
   "execution_count": 3,
   "metadata": {},
   "outputs": [],
   "source": [
    "# Convert the station metadata into a dataframe and save it. \n",
    "station_df = pd.DataFrame(station_data[\"data\"][\"stations\"])\n",
    "\n",
    "# Add region information to the spreadsheet\n",
    "short_names = station_df.short_name.values\n",
    "prefixes = [sn[0:2] for sn in short_names]\n",
    "city_map = {'BK': 'Berkeley',\n",
    "            'SF': 'San Francisco',\n",
    "            'EM': 'Emeryville',\n",
    "            'SJ': 'San Jose',\n",
    "            'OK': 'Oakland'}\n",
    "region_map = {'BK': 'East Bay',\n",
    "              'SF': 'San Francisco', \n",
    "              'EM': 'East Bay',\n",
    "              'SJ': 'South Bay',\n",
    "              'OK': 'East Bay'}\n",
    "station_df['city'] = [city_map[p] for p in prefixes]\n",
    "station_df['region'] = [region_map[p] for p in prefixes]\n",
    "\n",
    "station_df.to_csv('../data/station_info.csv')"
   ]
  },
  {
   "cell_type": "code",
   "execution_count": 7,
   "metadata": {},
   "outputs": [
    {
     "name": "stdout",
     "output_type": "stream",
     "text": [
      "Expecting ':' delimiter: line 1 column 57345 (char 57344)\n",
      "10535 station_status_1571632118993.json\n"
     ]
    }
   ],
   "source": [
    "# Reading all the JSON files we downloaded.\n",
    "json_fnames = sorted(os.listdir('../downloads'))\n",
    "\n",
    "# Dict maps keys to lists of data from the series of downloads.\n",
    "station_timeseries_dict = {}\n",
    "keys2use = set(['num_bikes_available',\n",
    "                'num_docks_available',\n",
    "                'num_docks_disabled',\n",
    "                'station_id',\n",
    "                'is_installed',\n",
    "                'is_returning',\n",
    "                'num_ebikes_available',\n",
    "                'num_bikes_disabled',\n",
    "                'is_renting',\n",
    "                'last_reported',])\n",
    "\n",
    "for i, fname in enumerate(json_fnames):\n",
    "    # timestamp was saved in the filename - pull it out. \n",
    "    query_ts = int(fname.split('_')[-1].split('.')[0])\n",
    "    \n",
    "    with open(path.join('../downloads/', fname)) as f:\n",
    "        try:\n",
    "            json_data = json.load(f)\n",
    "        except Exception as e:\n",
    "            print (e)\n",
    "            print('Skipping file', i, fname)\n",
    "            continue\n",
    "            \n",
    "        stations_info = json_data[\"data\"][\"stations\"]\n",
    "        for station_dict in stations_info:\n",
    "            station_timeseries_dict.setdefault(\"query_ts\", []).append(query_ts)\n",
    "            \n",
    "            for key in keys2use:\n",
    "                station_timeseries_dict.setdefault(key, []).append(\n",
    "                    station_dict.get(key))"
   ]
  },
  {
   "cell_type": "code",
   "execution_count": 8,
   "metadata": {},
   "outputs": [],
   "source": [
    "# Convert to DataFrame - this will be slow\n",
    "station_timeseries_df = pd.DataFrame(station_timeseries_dict)\n",
    "\n",
    "# Calculate fraction full and various other derived params\n",
    "total_docks = station_timeseries_df.num_bikes_available + station_timeseries_df.num_docks_available\n",
    "station_timeseries_df['fraction_full'] = station_timeseries_df.num_bikes_available / total_docks\n",
    "\n",
    "full = station_timeseries_df.num_bikes_available == total_docks\n",
    "empty = station_timeseries_df.num_bikes_available == 0\n",
    "full_or_empty = np.logical_or(full, empty)\n",
    "\n",
    "station_timeseries_df['full'] = full.astype('int32')\n",
    "station_timeseries_df['empty'] = empty.astype('int32')\n",
    "station_timeseries_df['full_or_empty'] = full_or_empty.astype('int32')\n",
    "\n",
    "station_timeseries_df['half_full_dev'] = np.abs(station_timeseries_df.fraction_full - 0.5)\n",
    "\n",
    "# Save - may also take a while.\n",
    "station_timeseries_df.to_csv('../data/stations_timeseries.csv')"
   ]
  },
  {
   "cell_type": "code",
   "execution_count": null,
   "metadata": {},
   "outputs": [],
   "source": []
  }
 ],
 "metadata": {
  "kernelspec": {
   "display_name": "Python 3",
   "language": "python",
   "name": "python3"
  },
  "language_info": {
   "codemirror_mode": {
    "name": "ipython",
    "version": 3
   },
   "file_extension": ".py",
   "mimetype": "text/x-python",
   "name": "python",
   "nbconvert_exporter": "python",
   "pygments_lexer": "ipython3",
   "version": "3.6.5"
  }
 },
 "nbformat": 4,
 "nbformat_minor": 2
}
